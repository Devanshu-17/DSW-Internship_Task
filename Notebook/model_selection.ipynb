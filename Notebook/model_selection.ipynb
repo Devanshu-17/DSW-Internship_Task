{
  "cells": [
    {
      "cell_type": "code",
      "source": [
        "pip install keras==2.12.0"
      ],
      "metadata": {
        "colab": {
          "base_uri": "https://localhost:8080/",
          "height": 324
        },
        "id": "pto5N4fRV74J",
        "outputId": "934f32fd-4249-4ce9-c5a8-655932a76c9c"
      },
      "id": "pto5N4fRV74J",
      "execution_count": null,
      "outputs": [
        {
          "output_type": "stream",
          "name": "stdout",
          "text": [
            "Collecting keras==2.12.0\n",
            "  Downloading keras-2.12.0-py2.py3-none-any.whl (1.7 MB)\n",
            "\u001b[2K     \u001b[90m━━━━━━━━━━━━━━━━━━━━━━━━━━━━━━━━━━━━━━━━\u001b[0m \u001b[32m1.7/1.7 MB\u001b[0m \u001b[31m6.8 MB/s\u001b[0m eta \u001b[36m0:00:00\u001b[0m\n",
            "\u001b[?25hInstalling collected packages: keras\n",
            "  Attempting uninstall: keras\n",
            "    Found existing installation: keras 2.15.0\n",
            "    Uninstalling keras-2.15.0:\n",
            "      Successfully uninstalled keras-2.15.0\n",
            "\u001b[31mERROR: pip's dependency resolver does not currently take into account all the packages that are installed. This behaviour is the source of the following dependency conflicts.\n",
            "tensorflow 2.15.0 requires keras<2.16,>=2.15.0, but you have keras 2.12.0 which is incompatible.\u001b[0m\u001b[31m\n",
            "\u001b[0mSuccessfully installed keras-2.12.0\n"
          ]
        },
        {
          "output_type": "display_data",
          "data": {
            "application/vnd.colab-display-data+json": {
              "pip_warning": {
                "packages": [
                  "keras"
                ]
              }
            }
          },
          "metadata": {}
        }
      ]
    },
    {
      "cell_type": "code",
      "execution_count": null,
      "id": "4b5a7827",
      "metadata": {
        "colab": {
          "base_uri": "https://localhost:8080/"
        },
        "id": "4b5a7827",
        "outputId": "1cd21a78-f59b-44db-9512-12bb2233309e"
      },
      "outputs": [
        {
          "output_type": "stream",
          "name": "stdout",
          "text": [
            "Best Parameters: {'classifier': LogisticRegression(C=0.1), 'classifier__C': 0.1}\n",
            "Best Score: 0.781875\n",
            "Accuracy: 0.78875\n",
            "Precision: 0.8231481481481482\n",
            "Recall: 0.8581081081081081\n",
            "F1 Score: 0.8402646502835539\n",
            "***************************************************\n",
            "Best Parameters: {'classifier': RandomForestClassifier(), 'classifier__n_estimators': 100}\n",
            "Best Score: 0.83984375\n",
            "Accuracy: 0.843125\n",
            "Precision: 0.8558476881233001\n",
            "Recall: 0.9111969111969112\n",
            "F1 Score: 0.8826554464703131\n",
            "***************************************************\n",
            "Best Parameters: {'classifier': MLPClassifier(hidden_layer_sizes=(50, 50)), 'classifier__activation': 'relu', 'classifier__hidden_layer_sizes': (50, 50), 'classifier__solver': 'adam'}\n",
            "Best Score: 0.82984375\n",
            "Accuracy: 0.839375\n",
            "Precision: 0.8524886877828054\n",
            "Recall: 0.9092664092664092\n",
            "F1 Score: 0.8799626342830452\n",
            "***************************************************\n",
            "Best Parameters: {'classifier': SVC(C=10), 'classifier__C': 10, 'classifier__kernel': 'rbf'}\n",
            "Best Score: 0.8089062499999999\n",
            "Accuracy: 0.818125\n",
            "Precision: 0.8208440999138673\n",
            "Recall: 0.9198841698841699\n",
            "F1 Score: 0.8675466545289031\n",
            "***************************************************\n",
            "Best Parameters: {'classifier': KNeighborsClassifier(n_neighbors=7, weights='distance'), 'classifier__n_neighbors': 7, 'classifier__weights': 'distance'}\n",
            "Best Score: 0.8350000000000002\n",
            "Accuracy: 0.835\n",
            "Precision: 0.8521897810218978\n",
            "Recall: 0.9015444015444015\n",
            "F1 Score: 0.876172607879925\n",
            "***************************************************\n",
            "Best Model: Pipeline(steps=[('scaler', StandardScaler()),\n",
            "                ('classifier', RandomForestClassifier())])\n",
            "Best Score: 0.83984375\n"
          ]
        }
      ],
      "source": [
        "from sklearn.linear_model import LogisticRegression\n",
        "from sklearn.svm import SVC\n",
        "from sklearn.neighbors import KNeighborsClassifier\n",
        "from sklearn.ensemble import RandomForestClassifier\n",
        "from sklearn.neural_network import MLPClassifier\n",
        "from sklearn.model_selection import GridSearchCV\n",
        "from sklearn.pipeline import Pipeline\n",
        "from sklearn.preprocessing import StandardScaler\n",
        "from sklearn.metrics import accuracy_score, precision_score, recall_score, f1_score\n",
        "import pandas as pd\n",
        "from sklearn.model_selection import train_test_split\n",
        "import warnings\n",
        "\n",
        "warnings.filterwarnings('ignore')\n",
        "\n",
        "# Load the dataset and split into features and target variable\n",
        "df = pd.read_csv('/content/train_df.csv')\n",
        "x = df.drop('success_indicator', axis=1)\n",
        "y = df['success_indicator']\n",
        "x_train, x_test, y_train, y_test = train_test_split(x, y, test_size=0.2, random_state=77)\n",
        "\n",
        "pipeline = Pipeline([('scaler', StandardScaler()), ('classifier', None)])\n",
        "\n",
        "param_grids = [\n",
        "    {'classifier': [LogisticRegression()],\n",
        "     'classifier__C': [0.1, 1, 10]},\n",
        "    {'classifier': [RandomForestClassifier()],\n",
        "     'classifier__n_estimators': [100, 200, 300]},\n",
        "    {'classifier': [MLPClassifier()],\n",
        "     'classifier__hidden_layer_sizes': [(100,), (50, 50), (25, 25, 25)],\n",
        "     'classifier__activation': ['relu', 'tanh'],\n",
        "     'classifier__solver': ['adam']},\n",
        "    {'classifier': [SVC()],\n",
        "     'classifier__C': [0.1, 1, 10],\n",
        "     'classifier__kernel': ['linear', 'rbf']},\n",
        "    {'classifier': [KNeighborsClassifier()],\n",
        "     'classifier__n_neighbors': [3, 5, 7],\n",
        "     'classifier__weights': ['uniform', 'distance']}\n",
        "]\n",
        "\n",
        "best_model = None\n",
        "best_score = 0\n",
        "\n",
        "for entity in param_grids:\n",
        "    gs = GridSearchCV(pipeline, entity, cv=5, scoring='accuracy')\n",
        "    gs.fit(x_train, y_train)\n",
        "\n",
        "    y_pred = gs.predict(x_test)\n",
        "    accuracy = accuracy_score(y_test, y_pred)\n",
        "    precision = precision_score(y_test, y_pred)\n",
        "    recall = recall_score(y_test, y_pred)\n",
        "    f1 = f1_score(y_test, y_pred)\n",
        "\n",
        "    print(\"Best Parameters:\", gs.best_params_)\n",
        "    print(\"Best Score:\", gs.best_score_)\n",
        "    print(\"Accuracy:\", accuracy)\n",
        "    print(\"Precision:\", precision)\n",
        "    print(\"Recall:\", recall)\n",
        "    print(\"F1 Score:\", f1)\n",
        "    print(\"***************************************************\")\n",
        "\n",
        "    if gs.best_score_ > best_score:\n",
        "        best_model = gs.best_estimator_\n",
        "        best_score = gs.best_score_\n",
        "\n",
        "print(\"Best Model:\", best_model)\n",
        "print(\"Best Score:\", best_score)"
      ]
    },
    {
      "cell_type": "markdown",
      "source": [
        "Based on the provided results, the best model selected by GridSearchCV is a RandomForestClassifier with the following parameters:\n",
        "\n",
        "- **Best Parameters**: {'classifier': RandomForestClassifier(), 'classifier__n_estimators': 100}\n",
        "- **Best Score**: 0.83984375\n",
        "- **Accuracy**: 0.843125\n",
        "- **Precision**: 0.8558476881233001\n",
        "- **Recall**: 0.9111969111969112\n",
        "- **F1 Score**: 0.8826554464703131\n",
        "\n",
        "Here are some reasons why the RandomForestClassifier might have been chosen as the best model:\n",
        "\n",
        "1. **High Accuracy**: The RandomForestClassifier achieved the highest accuracy of 0.843125 among all models tested, indicating that it correctly classified a large portion of the test data.\n",
        "\n",
        "2. **Balanced Precision and Recall**: The precision (0.8558) and recall (0.9112) scores are both reasonably high. This suggests that the model not only predicts positive outcomes accurately (precision) but also captures a high proportion of actual positive cases (recall).\n",
        "\n",
        "3. **High F1 Score**: The F1 score, which combines precision and recall into a single metric, is also high at 0.8827. This indicates a good balance between precision and recall.\n",
        "\n",
        "4. **Robustness to Overfitting**: RandomForestClassifier tends to handle overfitting well due to its ensemble nature. By averaging multiple decision trees, it reduces the risk of overfitting compared to a single decision tree.\n",
        "\n",
        "5. **Capability to Capture Complex Relationships**: RandomForestClassifier is capable of capturing complex relationships in the data due to its ensemble of decision trees. This makes it suitable for datasets with non-linear relationships between features and the target variable.\n",
        "\n",
        "Overall, the RandomForestClassifier appears to be the best choice based on its strong performance across multiple evaluation metrics and its ability to handle complex datasets effectively."
      ],
      "metadata": {
        "id": "eoFWsklbbL6M"
      },
      "id": "eoFWsklbbL6M"
    },
    {
      "cell_type": "markdown",
      "source": [],
      "metadata": {
        "id": "lek3wDo1az2l"
      },
      "id": "lek3wDo1az2l"
    }
  ],
  "metadata": {
    "kernelspec": {
      "display_name": "Python 3",
      "name": "python3"
    },
    "language_info": {
      "codemirror_mode": {
        "name": "ipython",
        "version": 3
      },
      "file_extension": ".py",
      "mimetype": "text/x-python",
      "name": "python",
      "nbconvert_exporter": "python",
      "pygments_lexer": "ipython3",
      "version": "3.11.0"
    },
    "colab": {
      "provenance": [],
      "gpuType": "T4"
    },
    "accelerator": "GPU"
  },
  "nbformat": 4,
  "nbformat_minor": 5
}